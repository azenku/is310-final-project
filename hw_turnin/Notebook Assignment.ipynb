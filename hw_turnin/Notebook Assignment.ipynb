{
 "cells": [
  {
   "cell_type": "code",
   "execution_count": 14,
   "id": "choice-popularity",
   "metadata": {},
   "outputs": [],
   "source": [
    "from bs4 import BeautifulSoup\n",
    "import pandas as pd\n",
    "import requests\n",
    "import json"
   ]
  },
  {
   "cell_type": "code",
   "execution_count": 15,
   "id": "mexican-range",
   "metadata": {},
   "outputs": [],
   "source": [
    "#$ pip install BeautifulSoup4"
   ]
  },
  {
   "cell_type": "code",
   "execution_count": 16,
   "id": "registered-cause",
   "metadata": {},
   "outputs": [],
   "source": [
    "\n",
    "\n",
    "def scrape_webpage(url):\n",
    "    response = requests.get(url)\n",
    "    html_string = response.text\n",
    "    return html_string\n",
    "\n",
    "content = scrape_webpage(\"https://humanist.kdl.kcl.ac.uk/Archives/Converted_Text/\")"
   ]
  },
  {
   "cell_type": "code",
   "execution_count": 20,
   "id": "bored-filing",
   "metadata": {},
   "outputs": [],
   "source": [
    "def scrape_webpage(url):\n",
    "    response = requests.get(url)\n",
    "    html_string = response.text\n",
    "    return html_string\n",
    "\n",
    "# Step 1: Create a function for getting the urls wuth title\n",
    "#Lowercase and underscores are the normal convention for naming functions in Python. Camelcasing Like you had is more normal\n",
    "def get_content(url='', keyword='', filename='', url_head=\"https://humanist.kdl.kcl.ac.uk/Archives/Converted_Text/\"):\n",
    "    content = scrape_webpage(url)\n",
    "    soup = BeautifulSoup(content, \"html.parser\")\n",
    "    links = soup.find_all('a')\n",
    "    # LinkList = (]\n",
    "    # volumeList\n",
    "    #save yourself having to zip your Lists by just creating your dictionary from the ouset\n",
    "    result = {} #Create a dictionary to store the results, and give a more descriptive name to the variable\n",
    "    for link in links:\n",
    "        text = link.get_text().lower()\n",
    "        if keyword in text:\n",
    "            result[text] = url_head + link.get('href')\n",
    "    # LinkList,append (urL head + Link.get ('href*))\n",
    "    # volumeList. append (text)\n",
    "    # res = dict(zip(volumeList, LinkList))\n",
    "\n",
    "\n",
    "\n",
    "\n",
    "    with open (filename, 'w') as file:\n",
    "        file.write(json.dumps(result, indent=2))\n",
    "    return result\n",
    "\n",
    "res = get_content(\n",
    "url='https://humanist.kdl.kcl.ac.uk/Archives/Converted_Text/',\n",
    "keyword=\"humanist\",\n",
    "filename=\"main_page.json\")\n",
    "ls = []\n",
    "clean_links=list(res.values())\n",
    "for link in clean_links:\n",
    "    url=link\n",
    "    page=requests.get(url)\n",
    "    page_text=page.text\n",
    "    ls.append(page_text)\n",
    "data= {'url':clean_links,'text': ls}\n",
    "humanist_vols = pd.DataFrame(data)\n",
    "\n",
    "humanist_vols.to_csv('web_scraped_humanist_listserv.csv')\n"
   ]
  },
  {
   "cell_type": "code",
   "execution_count": 35,
   "id": "israeli-enforcement",
   "metadata": {},
   "outputs": [],
   "source": [
    "#part 2\n",
    "\n",
    "\n",
    "\n",
    "char_list=pd.read_csv('character_list5.csv',encoding = \"ISO-8859-1\")\n",
    "char_map=pd.read_csv('character_mapping.csv',encoding = \"ISO-8859-1\")\n",
    "meta=pd.read_csv('meta_data7.csv',encoding = \"ISO-8859-1\")\n"
   ]
  },
  {
   "cell_type": "code",
   "execution_count": 38,
   "id": "clinical-static",
   "metadata": {},
   "outputs": [],
   "source": [
    "char_list"
   ]
  },
  {
   "cell_type": "code",
   "execution_count": 40,
   "id": "proved-orientation",
   "metadata": {},
   "outputs": [
    {
     "ename": "TypeError",
     "evalue": "'NoneType' object is not subscriptable",
     "output_type": "error",
     "traceback": [
      "\u001b[1;31m---------------------------------------------------------------------------\u001b[0m",
      "\u001b[1;31mTypeError\u001b[0m                                 Traceback (most recent call last)",
      "\u001b[1;32m<ipython-input-40-fc631d58ecec>\u001b[0m in \u001b[0;36m<module>\u001b[1;34m\u001b[0m\n\u001b[1;32m----> 1\u001b[1;33m \u001b[0mchar_list\u001b[0m\u001b[1;33m[\u001b[0m\u001b[1;34m'age'\u001b[0m\u001b[1;33m]\u001b[0m\u001b[1;33m.\u001b[0m\u001b[0munique\u001b[0m\u001b[1;33m(\u001b[0m\u001b[1;33m)\u001b[0m\u001b[1;33m\u001b[0m\u001b[1;33m\u001b[0m\u001b[0m\n\u001b[0m\u001b[0;32m      2\u001b[0m \u001b[0mchar_list\u001b[0m\u001b[1;33m[\u001b[0m\u001b[1;33m[\u001b[0m\u001b[1;34m'age'\u001b[0m\u001b[1;33m]\u001b[0m\u001b[1;33m]\u001b[0m\u001b[1;33m.\u001b[0m\u001b[0mfillna\u001b[0m\u001b[1;33m(\u001b[0m\u001b[1;36m0.0\u001b[0m\u001b[1;33m,\u001b[0m \u001b[0minplace\u001b[0m \u001b[1;33m=\u001b[0m \u001b[1;32mTrue\u001b[0m\u001b[1;33m)\u001b[0m\u001b[1;33m\u001b[0m\u001b[1;33m\u001b[0m\u001b[0m\n\u001b[0;32m      3\u001b[0m \u001b[1;33m\u001b[0m\u001b[0m\n\u001b[0;32m      4\u001b[0m \u001b[0mchar_list\u001b[0m\u001b[1;33m.\u001b[0m\u001b[0mrename\u001b[0m\u001b[1;33m(\u001b[0m\u001b[0mcolumns\u001b[0m \u001b[1;33m=\u001b[0m \u001b[1;33m{\u001b[0m\u001b[1;34m'imdb_character'\u001b[0m\u001b[1;33m:\u001b[0m\u001b[1;34m'character_name'\u001b[0m\u001b[1;33m}\u001b[0m\u001b[1;33m,\u001b[0m\u001b[0minplace\u001b[0m\u001b[1;33m=\u001b[0m\u001b[1;32mTrue\u001b[0m\u001b[1;33m)\u001b[0m\u001b[1;33m\u001b[0m\u001b[1;33m\u001b[0m\u001b[0m\n\u001b[0;32m      5\u001b[0m \u001b[0mchar_map\u001b[0m\u001b[1;33m.\u001b[0m\u001b[0mrename\u001b[0m\u001b[1;33m(\u001b[0m\u001b[0mcolumns\u001b[0m \u001b[1;33m=\u001b[0m \u001b[1;33m{\u001b[0m\u001b[1;34m'character_from_script'\u001b[0m\u001b[1;33m:\u001b[0m\u001b[1;34m'character_name'\u001b[0m\u001b[1;33m}\u001b[0m\u001b[1;33m,\u001b[0m\u001b[0minplace\u001b[0m\u001b[1;33m=\u001b[0m\u001b[1;32mTrue\u001b[0m\u001b[1;33m)\u001b[0m\u001b[1;33m\u001b[0m\u001b[1;33m\u001b[0m\u001b[0m\n",
      "\u001b[1;31mTypeError\u001b[0m: 'NoneType' object is not subscriptable"
     ]
    }
   ],
   "source": [
    "\n",
    "\n",
    "char_list['age'].unique()\n",
    "char_list[['age']].fillna(0.0, inplace = True)\n",
    "\n",
    "char_list.rename(columns = {'imdb_character':'character_name'},inplace=True)\n",
    "char_map.rename(columns = {'character_from_script':'character_name'},inplace=True)\n",
    "type(char_list)\n",
    "\n",
    "pd.merge(char_list,char_map, on = 'character_name')"
   ]
  },
  {
   "cell_type": "code",
   "execution_count": 34,
   "id": "working-malawi",
   "metadata": {},
   "outputs": [
    {
     "ename": "TypeError",
     "evalue": "'NoneType' object is not subscriptable",
     "output_type": "error",
     "traceback": [
      "\u001b[1;31m---------------------------------------------------------------------------\u001b[0m",
      "\u001b[1;31mTypeError\u001b[0m                                 Traceback (most recent call last)",
      "\u001b[1;32m<ipython-input-34-31f5fa31e4c3>\u001b[0m in \u001b[0;36m<module>\u001b[1;34m\u001b[0m\n\u001b[1;32m----> 1\u001b[1;33m \u001b[0mchar_list\u001b[0m\u001b[1;33m[\u001b[0m\u001b[1;34m'character_name'\u001b[0m\u001b[1;33m]\u001b[0m\u001b[1;33m\u001b[0m\u001b[1;33m\u001b[0m\u001b[0m\n\u001b[0m",
      "\u001b[1;31mTypeError\u001b[0m: 'NoneType' object is not subscriptable"
     ]
    }
   ],
   "source": [
    "char_list['character_name']"
   ]
  },
  {
   "cell_type": "code",
   "execution_count": null,
   "id": "above-kernel",
   "metadata": {},
   "outputs": [],
   "source": []
  }
 ],
 "metadata": {
  "kernelspec": {
   "display_name": "Python 3",
   "language": "python",
   "name": "python3"
  },
  "language_info": {
   "codemirror_mode": {
    "name": "ipython",
    "version": 3
   },
   "file_extension": ".py",
   "mimetype": "text/x-python",
   "name": "python",
   "nbconvert_exporter": "python",
   "pygments_lexer": "ipython3",
   "version": "3.7.9"
  }
 },
 "nbformat": 4,
 "nbformat_minor": 5
}
