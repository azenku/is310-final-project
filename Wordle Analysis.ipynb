{
 "cells": [
  {
   "cell_type": "code",
   "execution_count": 5,
   "id": "embedded-nightmare",
   "metadata": {},
   "outputs": [],
   "source": [
    "import nest_asyncio\n",
    "nest_asyncio.apply()\n",
    "import twint\n",
    "import pandas as pd\n"
   ]
  },
  {
   "cell_type": "code",
   "execution_count": 54,
   "id": "ancient-assault",
   "metadata": {},
   "outputs": [],
   "source": [
    "twint.output.clean_lists()"
   ]
  },
  {
   "cell_type": "code",
   "execution_count": 74,
   "id": "danish-cement",
   "metadata": {},
   "outputs": [
    {
     "name": "stdout",
     "output_type": "stream",
     "text": [
      "Wall time: 16.3 s\n"
     ]
    }
   ],
   "source": [
    "%%time\n",
    "#module example from pypi.org/project/twint/\n",
    "#didnt work, did research and it needed modification and added nest_asyncio\n",
    "\n",
    "#had to reinstall git and reinstall twint with a upgrade to fix a error it had\n",
    "\n",
    "# Configure\n",
    "\n",
    "c = twint.Config()\n",
    "#c.Username = \"viticci\"\n",
    "#c.Search = \"⬜\"\n",
    "c.Search = \"Wordle AND ⬜\"\n",
    "#c.Since = '2021-11-01 00:00:00'\n",
    "c.Until = '2022-05-28'\n",
    "c.Pandas=True\n",
    "#c.output = 'wordles.csv'\n",
    "#c.Popular_tweets = True\n",
    "c.Limit = 1000\n",
    "#c.Resume = 'word_last.csv'\n",
    "# Run\n",
    "c.Hide_output = True\n",
    "twint.run.Search(c)\n",
    "#uncomment the search if you want it to run"
   ]
  },
  {
   "cell_type": "code",
   "execution_count": 75,
   "id": "paperback-accessory",
   "metadata": {},
   "outputs": [
    {
     "data": {
      "text/plain": [
       "Config(Username=None, User_id=None, Search='Wordle AND ⬜', Lookup=False, Geo='', Location=False, Near=None, Lang=None, Output=None, Elasticsearch=None, Year=None, Since=None, Until='2022-05-28', Email=None, Phone=None, Verified=False, Store_csv=False, Store_json=False, Show_hashtags=False, Show_cashtags=False, Limit=1000, Count=None, Stats=False, Database=None, To=None, Debug=False, Essid='', Profile=False, Followers=False, Following=False, Favorites=False, TwitterSearch=True, User_full=False, Store_object=False, Store_object_tweets_list=None, Store_object_users_list=None, Store_object_follow_list=None, Pandas_type=None, Pandas=True, Index_tweets='twinttweets', Index_follow='twintgraph', Index_users='twintuser', Retries_count=10, Resume=None, Images=False, Videos=False, Media=False, Replies=False, Pandas_clean=True, Lowercase=True, Pandas_au=True, Proxy_host='', Proxy_port=0, Proxy_type=None, Tor_control_port=9051, Tor_control_password=None, Retweets=False, Query=None, Hide_output=True, Custom_query='', Popular_tweets=False, Skip_certs=False, Native_retweets=False, Min_likes=0, Min_retweets=0, Min_replies=0, Links=None, Source=None, Members_list=None, Filter_retweets=False, Translate=False, TranslateSrc='en', TranslateDest='en', Backoff_exponent=3.0, Min_wait_time=0, Bearer_token='Bearer AAAAAAAAAAAAAAAAAAAAANRILgAAAAAAnNwIzUejRCOuH5E6I8xnZz4puTs%3D1Zv7ttfk8LF81IUq16cHjhLTvJu4FA33AGWWjCpTnA', Guest_token='1526365969593118720', deleted=[])"
      ]
     },
     "execution_count": 75,
     "metadata": {},
     "output_type": "execute_result"
    }
   ],
   "source": [
    "c"
   ]
  },
  {
   "cell_type": "code",
   "execution_count": 76,
   "id": "responsible-building",
   "metadata": {
    "scrolled": true
   },
   "outputs": [
    {
     "data": {
      "text/html": [
       "<div>\n",
       "<style scoped>\n",
       "    .dataframe tbody tr th:only-of-type {\n",
       "        vertical-align: middle;\n",
       "    }\n",
       "\n",
       "    .dataframe tbody tr th {\n",
       "        vertical-align: top;\n",
       "    }\n",
       "\n",
       "    .dataframe thead th {\n",
       "        text-align: right;\n",
       "    }\n",
       "</style>\n",
       "<table border=\"1\" class=\"dataframe\">\n",
       "  <thead>\n",
       "    <tr style=\"text-align: right;\">\n",
       "      <th></th>\n",
       "      <th>id</th>\n",
       "      <th>conversation_id</th>\n",
       "      <th>created_at</th>\n",
       "      <th>date</th>\n",
       "      <th>timezone</th>\n",
       "      <th>place</th>\n",
       "      <th>tweet</th>\n",
       "      <th>language</th>\n",
       "      <th>hashtags</th>\n",
       "      <th>cashtags</th>\n",
       "      <th>...</th>\n",
       "      <th>source</th>\n",
       "      <th>user_rt_id</th>\n",
       "      <th>user_rt</th>\n",
       "      <th>retweet_id</th>\n",
       "      <th>reply_to</th>\n",
       "      <th>retweet_date</th>\n",
       "      <th>translate</th>\n",
       "      <th>trans_src</th>\n",
       "      <th>trans_dest</th>\n",
       "      <th>day_only</th>\n",
       "    </tr>\n",
       "  </thead>\n",
       "  <tbody>\n",
       "    <tr>\n",
       "      <th>861</th>\n",
       "      <td>1526353439932002305</td>\n",
       "      <td>1526353439932002305</td>\n",
       "      <td>1.652746e+12</td>\n",
       "      <td>2022-05-16 19:06:33</td>\n",
       "      <td>-0500</td>\n",
       "      <td></td>\n",
       "      <td>Wordle 331 3/ @AlexMJordonJr 🟩🟩🟩⬜⬜ 🟩🟩🟩⬜⬜ 🟩🟩🟩🟩🟩</td>\n",
       "      <td>en</td>\n",
       "      <td>[]</td>\n",
       "      <td>[]</td>\n",
       "      <td>...</td>\n",
       "      <td></td>\n",
       "      <td></td>\n",
       "      <td></td>\n",
       "      <td></td>\n",
       "      <td>[]</td>\n",
       "      <td></td>\n",
       "      <td></td>\n",
       "      <td></td>\n",
       "      <td></td>\n",
       "      <td>2022-05-16</td>\n",
       "    </tr>\n",
       "    <tr>\n",
       "      <th>425</th>\n",
       "      <td>1526359516815687680</td>\n",
       "      <td>1526359516815687680</td>\n",
       "      <td>1.652747e+12</td>\n",
       "      <td>2022-05-16 19:30:41</td>\n",
       "      <td>-0500</td>\n",
       "      <td></td>\n",
       "      <td>Wordle (ES)  #130 3/6  ⬜🟨🟨🟩⬜ ⬜🟨🟨🟩🟩 🟩🟩🟩🟩🟩   htt...</td>\n",
       "      <td>en</td>\n",
       "      <td>[]</td>\n",
       "      <td>[]</td>\n",
       "      <td>...</td>\n",
       "      <td></td>\n",
       "      <td></td>\n",
       "      <td></td>\n",
       "      <td></td>\n",
       "      <td>[]</td>\n",
       "      <td></td>\n",
       "      <td></td>\n",
       "      <td></td>\n",
       "      <td></td>\n",
       "      <td>2022-05-16</td>\n",
       "    </tr>\n",
       "  </tbody>\n",
       "</table>\n",
       "<p>2 rows × 39 columns</p>\n",
       "</div>"
      ],
      "text/plain": [
       "                      id      conversation_id    created_at  \\\n",
       "861  1526353439932002305  1526353439932002305  1.652746e+12   \n",
       "425  1526359516815687680  1526359516815687680  1.652747e+12   \n",
       "\n",
       "                    date timezone place  \\\n",
       "861  2022-05-16 19:06:33    -0500         \n",
       "425  2022-05-16 19:30:41    -0500         \n",
       "\n",
       "                                                 tweet language hashtags  \\\n",
       "861     Wordle 331 3/ @AlexMJordonJr 🟩🟩🟩⬜⬜ 🟩🟩🟩⬜⬜ 🟩🟩🟩🟩🟩       en       []   \n",
       "425  Wordle (ES)  #130 3/6  ⬜🟨🟨🟩⬜ ⬜🟨🟨🟩🟩 🟩🟩🟩🟩🟩   htt...       en       []   \n",
       "\n",
       "    cashtags  ...  source user_rt_id user_rt retweet_id  reply_to  \\\n",
       "861       []  ...                                              []   \n",
       "425       []  ...                                              []   \n",
       "\n",
       "    retweet_date translate trans_src trans_dest    day_only  \n",
       "861                                              2022-05-16  \n",
       "425                                              2022-05-16  \n",
       "\n",
       "[2 rows x 39 columns]"
      ]
     },
     "execution_count": 76,
     "metadata": {},
     "output_type": "execute_result"
    }
   ],
   "source": [
    "df = twint.storage.panda.Tweets_df\n",
    "day_only = []\n",
    "#clean up\n",
    "cldf= df[df['tweet'].str.contains('⬜')]\n",
    "for date in cldf['date']:\n",
    "    dates = date.split()\n",
    "    day_only.append(dates[0])\n",
    "cldf['day_only']=day_only\n",
    "cldf.sample(2)\n"
   ]
  },
  {
   "cell_type": "code",
   "execution_count": 77,
   "id": "marked-petroleum",
   "metadata": {},
   "outputs": [
    {
     "data": {
      "text/html": [
       "<div>\n",
       "<style scoped>\n",
       "    .dataframe tbody tr th:only-of-type {\n",
       "        vertical-align: middle;\n",
       "    }\n",
       "\n",
       "    .dataframe tbody tr th {\n",
       "        vertical-align: top;\n",
       "    }\n",
       "\n",
       "    .dataframe thead th {\n",
       "        text-align: right;\n",
       "    }\n",
       "</style>\n",
       "<table border=\"1\" class=\"dataframe\">\n",
       "  <thead>\n",
       "    <tr style=\"text-align: right;\">\n",
       "      <th></th>\n",
       "      <th>id</th>\n",
       "      <th>conversation_id</th>\n",
       "      <th>created_at</th>\n",
       "      <th>date</th>\n",
       "      <th>timezone</th>\n",
       "      <th>place</th>\n",
       "      <th>tweet</th>\n",
       "      <th>language</th>\n",
       "      <th>hashtags</th>\n",
       "      <th>cashtags</th>\n",
       "      <th>...</th>\n",
       "      <th>source</th>\n",
       "      <th>user_rt_id</th>\n",
       "      <th>user_rt</th>\n",
       "      <th>retweet_id</th>\n",
       "      <th>reply_to</th>\n",
       "      <th>retweet_date</th>\n",
       "      <th>translate</th>\n",
       "      <th>trans_src</th>\n",
       "      <th>trans_dest</th>\n",
       "      <th>day_only</th>\n",
       "    </tr>\n",
       "  </thead>\n",
       "  <tbody>\n",
       "    <tr>\n",
       "      <th>0</th>\n",
       "      <td>1526365958394171392</td>\n",
       "      <td>1526365958394171392</td>\n",
       "      <td>1.652749e+12</td>\n",
       "      <td>2022-05-16 19:56:17</td>\n",
       "      <td>-0500</td>\n",
       "      <td></td>\n",
       "      <td>Wordle 331 4/6  🟩⬜⬜⬜⬜ ⬜⬜⬜⬜⬜ 🟩🟩⬜⬜🟩 🟩🟩🟩🟩🟩 Felt g...</td>\n",
       "      <td>en</td>\n",
       "      <td>[]</td>\n",
       "      <td>[]</td>\n",
       "      <td>...</td>\n",
       "      <td></td>\n",
       "      <td></td>\n",
       "      <td></td>\n",
       "      <td></td>\n",
       "      <td>[]</td>\n",
       "      <td></td>\n",
       "      <td></td>\n",
       "      <td></td>\n",
       "      <td></td>\n",
       "      <td>2022-05-16</td>\n",
       "    </tr>\n",
       "    <tr>\n",
       "      <th>1</th>\n",
       "      <td>1526365957186371584</td>\n",
       "      <td>1526365957186371584</td>\n",
       "      <td>1.652749e+12</td>\n",
       "      <td>2022-05-16 19:56:17</td>\n",
       "      <td>-0500</td>\n",
       "      <td></td>\n",
       "      <td>Wordle 332 3/6  ⬜⬜⬜🟨⬜ ⬜⬜🟩🟩🟨 🟩🟩🟩🟩🟩</td>\n",
       "      <td>en</td>\n",
       "      <td>[]</td>\n",
       "      <td>[]</td>\n",
       "      <td>...</td>\n",
       "      <td></td>\n",
       "      <td></td>\n",
       "      <td></td>\n",
       "      <td></td>\n",
       "      <td>[]</td>\n",
       "      <td></td>\n",
       "      <td></td>\n",
       "      <td></td>\n",
       "      <td></td>\n",
       "      <td>2022-05-16</td>\n",
       "    </tr>\n",
       "    <tr>\n",
       "      <th>2</th>\n",
       "      <td>1526365956947451904</td>\n",
       "      <td>1526365956947451904</td>\n",
       "      <td>1.652749e+12</td>\n",
       "      <td>2022-05-16 19:56:17</td>\n",
       "      <td>-0500</td>\n",
       "      <td></td>\n",
       "      <td>Wordle 332 5/6  🟨🟨🟨⬜⬜ ⬜⬜🟨⬜⬜ 🟩⬜⬜⬜🟨 🟩⬜🟩🟩⬜ 🟩🟩🟩🟩🟩</td>\n",
       "      <td>en</td>\n",
       "      <td>[]</td>\n",
       "      <td>[]</td>\n",
       "      <td>...</td>\n",
       "      <td></td>\n",
       "      <td></td>\n",
       "      <td></td>\n",
       "      <td></td>\n",
       "      <td>[]</td>\n",
       "      <td></td>\n",
       "      <td></td>\n",
       "      <td></td>\n",
       "      <td></td>\n",
       "      <td>2022-05-16</td>\n",
       "    </tr>\n",
       "    <tr>\n",
       "      <th>3</th>\n",
       "      <td>1526365925338845184</td>\n",
       "      <td>1526365925338845184</td>\n",
       "      <td>1.652749e+12</td>\n",
       "      <td>2022-05-16 19:56:09</td>\n",
       "      <td>-0500</td>\n",
       "      <td></td>\n",
       "      <td>Wordle 332 3/6  ⬜🟨🟨⬜🟨 🟩🟨⬜⬜⬜ 🟩🟩🟩🟩🟩</td>\n",
       "      <td>en</td>\n",
       "      <td>[]</td>\n",
       "      <td>[]</td>\n",
       "      <td>...</td>\n",
       "      <td></td>\n",
       "      <td></td>\n",
       "      <td></td>\n",
       "      <td></td>\n",
       "      <td>[]</td>\n",
       "      <td></td>\n",
       "      <td></td>\n",
       "      <td></td>\n",
       "      <td></td>\n",
       "      <td>2022-05-16</td>\n",
       "    </tr>\n",
       "    <tr>\n",
       "      <th>4</th>\n",
       "      <td>1526365880271179776</td>\n",
       "      <td>1526365880271179776</td>\n",
       "      <td>1.652749e+12</td>\n",
       "      <td>2022-05-16 19:55:59</td>\n",
       "      <td>-0500</td>\n",
       "      <td></td>\n",
       "      <td>Wordle Científico #64 5/6  ⬜⬜⬜🟨⬜ 🟨🟨🟨⬜🟨 🟨🟨🟨🟨⬜ ⬜...</td>\n",
       "      <td>es</td>\n",
       "      <td>[]</td>\n",
       "      <td>[]</td>\n",
       "      <td>...</td>\n",
       "      <td></td>\n",
       "      <td></td>\n",
       "      <td></td>\n",
       "      <td></td>\n",
       "      <td>[]</td>\n",
       "      <td></td>\n",
       "      <td></td>\n",
       "      <td></td>\n",
       "      <td></td>\n",
       "      <td>2022-05-16</td>\n",
       "    </tr>\n",
       "    <tr>\n",
       "      <th>...</th>\n",
       "      <td>...</td>\n",
       "      <td>...</td>\n",
       "      <td>...</td>\n",
       "      <td>...</td>\n",
       "      <td>...</td>\n",
       "      <td>...</td>\n",
       "      <td>...</td>\n",
       "      <td>...</td>\n",
       "      <td>...</td>\n",
       "      <td>...</td>\n",
       "      <td>...</td>\n",
       "      <td>...</td>\n",
       "      <td>...</td>\n",
       "      <td>...</td>\n",
       "      <td>...</td>\n",
       "      <td>...</td>\n",
       "      <td>...</td>\n",
       "      <td>...</td>\n",
       "      <td>...</td>\n",
       "      <td>...</td>\n",
       "      <td>...</td>\n",
       "    </tr>\n",
       "    <tr>\n",
       "      <th>995</th>\n",
       "      <td>1526351693457276929</td>\n",
       "      <td>1526351693457276929</td>\n",
       "      <td>1.652746e+12</td>\n",
       "      <td>2022-05-16 18:59:36</td>\n",
       "      <td>-0500</td>\n",
       "      <td></td>\n",
       "      <td>Wordle 332 5/6  ⬜⬜⬜🟩🟨 🟨⬜⬜⬜⬜ ⬜⬜🟩🟩🟩 🟨⬜🟩🟩🟩 🟩🟩🟩🟩🟩</td>\n",
       "      <td>en</td>\n",
       "      <td>[]</td>\n",
       "      <td>[]</td>\n",
       "      <td>...</td>\n",
       "      <td></td>\n",
       "      <td></td>\n",
       "      <td></td>\n",
       "      <td></td>\n",
       "      <td>[]</td>\n",
       "      <td></td>\n",
       "      <td></td>\n",
       "      <td></td>\n",
       "      <td></td>\n",
       "      <td>2022-05-16</td>\n",
       "    </tr>\n",
       "    <tr>\n",
       "      <th>996</th>\n",
       "      <td>1526351686108848129</td>\n",
       "      <td>1526351686108848129</td>\n",
       "      <td>1.652746e+12</td>\n",
       "      <td>2022-05-16 18:59:34</td>\n",
       "      <td>-0500</td>\n",
       "      <td></td>\n",
       "      <td>Wordle 331 4/6  Line 1: 5th perfect. Line 2: 4...</td>\n",
       "      <td>en</td>\n",
       "      <td>[]</td>\n",
       "      <td>[]</td>\n",
       "      <td>...</td>\n",
       "      <td></td>\n",
       "      <td></td>\n",
       "      <td></td>\n",
       "      <td></td>\n",
       "      <td>[]</td>\n",
       "      <td></td>\n",
       "      <td></td>\n",
       "      <td></td>\n",
       "      <td></td>\n",
       "      <td>2022-05-16</td>\n",
       "    </tr>\n",
       "    <tr>\n",
       "      <th>997</th>\n",
       "      <td>1526351685437730816</td>\n",
       "      <td>1526351685437730816</td>\n",
       "      <td>1.652746e+12</td>\n",
       "      <td>2022-05-16 18:59:34</td>\n",
       "      <td>-0500</td>\n",
       "      <td></td>\n",
       "      <td>Wordle 332 4/6  ⬜⬜🟩🟨⬜ ⬜⬜🟩⬜🟨 ⬜🟩🟩🟨⬜ 🟩🟩🟩🟩🟩</td>\n",
       "      <td>en</td>\n",
       "      <td>[]</td>\n",
       "      <td>[]</td>\n",
       "      <td>...</td>\n",
       "      <td></td>\n",
       "      <td></td>\n",
       "      <td></td>\n",
       "      <td></td>\n",
       "      <td>[]</td>\n",
       "      <td></td>\n",
       "      <td></td>\n",
       "      <td></td>\n",
       "      <td></td>\n",
       "      <td>2022-05-16</td>\n",
       "    </tr>\n",
       "    <tr>\n",
       "      <th>998</th>\n",
       "      <td>1526351661194674176</td>\n",
       "      <td>1526351661194674176</td>\n",
       "      <td>1.652746e+12</td>\n",
       "      <td>2022-05-16 18:59:28</td>\n",
       "      <td>-0500</td>\n",
       "      <td></td>\n",
       "      <td>Wordle 332 4/6  ⬜⬜⬜⬜🟦 🟧🟧🟦⬜⬜ 🟧🟧🟦🟦🟦 🟧🟧🟧🟧🟧</td>\n",
       "      <td>en</td>\n",
       "      <td>[]</td>\n",
       "      <td>[]</td>\n",
       "      <td>...</td>\n",
       "      <td></td>\n",
       "      <td></td>\n",
       "      <td></td>\n",
       "      <td></td>\n",
       "      <td>[]</td>\n",
       "      <td></td>\n",
       "      <td></td>\n",
       "      <td></td>\n",
       "      <td></td>\n",
       "      <td>2022-05-16</td>\n",
       "    </tr>\n",
       "    <tr>\n",
       "      <th>999</th>\n",
       "      <td>1526351654643068929</td>\n",
       "      <td>1526351654643068929</td>\n",
       "      <td>1.652746e+12</td>\n",
       "      <td>2022-05-16 18:59:27</td>\n",
       "      <td>-0500</td>\n",
       "      <td></td>\n",
       "      <td>Wordle (ES)  #130 5/6  ⬜⬜⬜⬜⬜ ⬜🟨🟨🟩🟩 ⬜⬜🟩🟩🟩 ⬜🟩🟩🟩🟩...</td>\n",
       "      <td>en</td>\n",
       "      <td>[]</td>\n",
       "      <td>[]</td>\n",
       "      <td>...</td>\n",
       "      <td></td>\n",
       "      <td></td>\n",
       "      <td></td>\n",
       "      <td></td>\n",
       "      <td>[]</td>\n",
       "      <td></td>\n",
       "      <td></td>\n",
       "      <td></td>\n",
       "      <td></td>\n",
       "      <td>2022-05-16</td>\n",
       "    </tr>\n",
       "  </tbody>\n",
       "</table>\n",
       "<p>1000 rows × 39 columns</p>\n",
       "</div>"
      ],
      "text/plain": [
       "                      id      conversation_id    created_at  \\\n",
       "0    1526365958394171392  1526365958394171392  1.652749e+12   \n",
       "1    1526365957186371584  1526365957186371584  1.652749e+12   \n",
       "2    1526365956947451904  1526365956947451904  1.652749e+12   \n",
       "3    1526365925338845184  1526365925338845184  1.652749e+12   \n",
       "4    1526365880271179776  1526365880271179776  1.652749e+12   \n",
       "..                   ...                  ...           ...   \n",
       "995  1526351693457276929  1526351693457276929  1.652746e+12   \n",
       "996  1526351686108848129  1526351686108848129  1.652746e+12   \n",
       "997  1526351685437730816  1526351685437730816  1.652746e+12   \n",
       "998  1526351661194674176  1526351661194674176  1.652746e+12   \n",
       "999  1526351654643068929  1526351654643068929  1.652746e+12   \n",
       "\n",
       "                    date timezone place  \\\n",
       "0    2022-05-16 19:56:17    -0500         \n",
       "1    2022-05-16 19:56:17    -0500         \n",
       "2    2022-05-16 19:56:17    -0500         \n",
       "3    2022-05-16 19:56:09    -0500         \n",
       "4    2022-05-16 19:55:59    -0500         \n",
       "..                   ...      ...   ...   \n",
       "995  2022-05-16 18:59:36    -0500         \n",
       "996  2022-05-16 18:59:34    -0500         \n",
       "997  2022-05-16 18:59:34    -0500         \n",
       "998  2022-05-16 18:59:28    -0500         \n",
       "999  2022-05-16 18:59:27    -0500         \n",
       "\n",
       "                                                 tweet language hashtags  \\\n",
       "0    Wordle 331 4/6  🟩⬜⬜⬜⬜ ⬜⬜⬜⬜⬜ 🟩🟩⬜⬜🟩 🟩🟩🟩🟩🟩 Felt g...       en       []   \n",
       "1                    Wordle 332 3/6  ⬜⬜⬜🟨⬜ ⬜⬜🟩🟩🟨 🟩🟩🟩🟩🟩       en       []   \n",
       "2        Wordle 332 5/6  🟨🟨🟨⬜⬜ ⬜⬜🟨⬜⬜ 🟩⬜⬜⬜🟨 🟩⬜🟩🟩⬜ 🟩🟩🟩🟩🟩       en       []   \n",
       "3                    Wordle 332 3/6  ⬜🟨🟨⬜🟨 🟩🟨⬜⬜⬜ 🟩🟩🟩🟩🟩       en       []   \n",
       "4    Wordle Científico #64 5/6  ⬜⬜⬜🟨⬜ 🟨🟨🟨⬜🟨 🟨🟨🟨🟨⬜ ⬜...       es       []   \n",
       "..                                                 ...      ...      ...   \n",
       "995      Wordle 332 5/6  ⬜⬜⬜🟩🟨 🟨⬜⬜⬜⬜ ⬜⬜🟩🟩🟩 🟨⬜🟩🟩🟩 🟩🟩🟩🟩🟩       en       []   \n",
       "996  Wordle 331 4/6  Line 1: 5th perfect. Line 2: 4...       en       []   \n",
       "997            Wordle 332 4/6  ⬜⬜🟩🟨⬜ ⬜⬜🟩⬜🟨 ⬜🟩🟩🟨⬜ 🟩🟩🟩🟩🟩       en       []   \n",
       "998            Wordle 332 4/6  ⬜⬜⬜⬜🟦 🟧🟧🟦⬜⬜ 🟧🟧🟦🟦🟦 🟧🟧🟧🟧🟧       en       []   \n",
       "999  Wordle (ES)  #130 5/6  ⬜⬜⬜⬜⬜ ⬜🟨🟨🟩🟩 ⬜⬜🟩🟩🟩 ⬜🟩🟩🟩🟩...       en       []   \n",
       "\n",
       "    cashtags  ...  source user_rt_id user_rt retweet_id  reply_to  \\\n",
       "0         []  ...                                              []   \n",
       "1         []  ...                                              []   \n",
       "2         []  ...                                              []   \n",
       "3         []  ...                                              []   \n",
       "4         []  ...                                              []   \n",
       "..       ...  ...     ...        ...     ...        ...       ...   \n",
       "995       []  ...                                              []   \n",
       "996       []  ...                                              []   \n",
       "997       []  ...                                              []   \n",
       "998       []  ...                                              []   \n",
       "999       []  ...                                              []   \n",
       "\n",
       "    retweet_date translate trans_src trans_dest    day_only  \n",
       "0                                                2022-05-16  \n",
       "1                                                2022-05-16  \n",
       "2                                                2022-05-16  \n",
       "3                                                2022-05-16  \n",
       "4                                                2022-05-16  \n",
       "..           ...       ...       ...        ...         ...  \n",
       "995                                              2022-05-16  \n",
       "996                                              2022-05-16  \n",
       "997                                              2022-05-16  \n",
       "998                                              2022-05-16  \n",
       "999                                              2022-05-16  \n",
       "\n",
       "[1000 rows x 39 columns]"
      ]
     },
     "execution_count": 77,
     "metadata": {},
     "output_type": "execute_result"
    }
   ],
   "source": [
    "cldf"
   ]
  },
  {
   "cell_type": "code",
   "execution_count": 78,
   "id": "vulnerable-fiber",
   "metadata": {
    "scrolled": true
   },
   "outputs": [
    {
     "name": "stdout",
     "output_type": "stream",
     "text": [
      "[9, 7, 9, 6, 9, 10, 8, 7, 10, 11, 6, 11, 8, 14, 6, 11, 10, 9, 6, 0, 6, 9, 10, 7, 10, 6, 8, 9, 7, 6, 8, 7, 10, 7, 10, 9, 9, 16, 7, 10, 6, 8, 6, 9, 8, 5, 8, 11, 8, 10, 9, 7, 8, 7, 10, 10, 7, 9, 7, 8, 8, 6, 7, 7, 8, 7, 9, 5, 10, 17, 9, 9, 7, 8, 7, 10, 10, 11, 6, 8, 12, 9, 11, 12, 11, 8, 9, 8, 7, 17, 11, 7, 9, 6, 8, 9, 13, 8, 10, 9, 5, 7, 9, 14, 7, 10, 11, 7, 9, 11, 15, 8, 6, 9, 13, 11, 10, 9, 5, 8, 9, 15, 7, 8, 6, 7, 11, 6, 9, 15, 8, 12, 1, 11, 6, 8, 7, 8, 13, 7, 9, 8, 8, 5, 10, 8, 5, 8, 11, 8, 7, 9, 5, 11, 11, 11, 7, 5, 8, 12, 11, 8, 7, 5, 8, 5, 5, 12, 9, 6, 11, 6, 9, 9, 11, 10, 9, 8, 6, 9, 9, 5, 7, 9, 8, 9, 9, 6, 8, 9, 10, 6, 8, 7, 6, 10, 6, 5, 6, 6, 5, 9, 9, 9, 7, 8, 5, 6, 10, 12, 8, 5, 7, 5, 5, 10, 7, 0, 5, 8, 10, 7, 9, 11, 7, 12, 10, 12, 21, 8, 13, 9, 9, 9, 6, 7, 9, 8, 5, 6, 7, 7, 9, 11, 12, 7, 7, 8, 7, 8, 6, 9, 7, 8, 9, 19, 8, 5, 8, 5, 8, 10, 19, 11, 16, 8, 9, 8, 10, 10, 8, 9, 10, 13, 9, 11, 13, 8, 9, 8, 10, 10, 8, 11, 10, 7, 9, 9, 8, 7, 6, 8, 11, 10, 12, 9, 10, 10, 5, 8, 16, 9, 6, 10, 10, 11, 9, 7, 8, 7, 7, 10, 6, 14, 11, 5, 7, 7, 7, 12, 5, 5, 23, 7, 5, 10, 13, 10, 7, 8, 6, 10, 29, 8, 10, 9, 6, 7, 7, 8, 8, 7, 6, 7, 7, 7, 7, 14, 6, 7, 8, 11, 7, 5, 9, 7, 11, 7, 7, 11, 5, 9, 8, 7, 9, 11, 10, 8, 19, 9, 9, 7, 17, 7, 6, 5, 7, 11, 7, 8, 13, 16, 12, 6, 11, 9, 7, 7, 8, 10, 7, 10, 9, 11, 9, 7, 6, 10, 9, 10, 10, 9, 9, 6, 8, 17, 7, 17, 8, 7, 5, 11, 8, 11, 6, 17, 9, 5, 7, 14, 7, 7, 13, 6, 10, 8, 6, 12, 6, 9, 13, 12, 10, 11, 8, 9, 6, 7, 7, 12, 9, 12, 9, 5, 11, 16, 7, 8, 5, 13, 10, 8, 9, 9, 7, 9, 8, 9, 7, 9, 10, 12, 0, 6, 0, 12, 7, 7, 5, 8, 9, 9, 5, 7, 8, 10, 9, 14, 5, 9, 5, 12, 7, 8, 6, 11, 7, 8, 8, 13, 12, 10, 5, 11, 12, 11, 5, 7, 10, 10, 11, 11, 7, 9, 12, 0, 10, 8, 8, 11, 9, 12, 9, 7, 0, 6, 9, 10, 9, 7, 7, 15, 8, 7, 6, 9, 9, 13, 5, 7, 11, 8, 6, 7, 7, 8, 9, 7, 9, 6, 6, 7, 8, 7, 8, 6, 10, 9, 8, 10, 7, 5, 8, 7, 6, 9, 14, 7, 9, 21, 0, 10, 9, 5, 7, 8, 5, 10, 9, 7, 9, 7, 10, 11, 8, 7, 13, 14, 13, 7, 8, 8, 11, 12, 7, 7, 14, 10, 7, 7, 10, 8, 8, 9, 7, 8, 9, 6, 13, 9, 6, 7, 11, 8, 14, 8, 14, 7, 9, 9, 6, 10, 11, 9, 8, 10, 9, 9, 9, 6, 7, 7, 8, 6, 7, 13, 10, 10, 10, 9, 6, 7, 8, 6, 9, 10, 11, 7, 11, 9, 8, 6, 10, 9, 9, 8, 6, 7, 8, 8, 9, 6, 6, 10, 9, 7, 8, 8, 7, 6, 6, 8, 8, 10, 10, 8, 11, 9, 6, 10, 9, 8, 10, 11, 8, 7, 8, 7, 5, 7, 9, 15, 9, 5, 15, 7, 8, 10, 7, 7, 7, 9, 9, 12, 10, 9, 9, 7, 9, 8, 8, 10, 7, 7, 6, 6, 11, 5, 8, 7, 8, 6, 7, 9, 6, 9, 9, 8, 11, 9, 8, 11, 7, 12, 13, 7, 14, 6, 7, 7, 13, 7, 9, 6, 20, 8, 9, 6, 12, 8, 17, 10, 11, 8, 10, 8, 9, 6, 10, 5, 7, 8, 8, 7, 6, 7, 9, 5, 7, 11, 9, 9, 8, 7, 7, 6, 5, 8, 7, 7, 8, 8, 16, 7, 6, 9, 5, 8, 6, 14, 13, 8, 5, 10, 8, 5, 8, 9, 16, 10, 6, 6, 9, 10, 10, 10, 39, 9, 6, 7, 9, 10, 8, 6, 8, 10, 7, 7, 8, 10, 10, 7, 8, 9, 9, 10, 11, 11, 9, 8, 7, 8, 7, 10, 7, 10, 11, 6, 11, 8, 8, 7, 9, 12, 9, 6, 12, 11, 10, 9, 13, 7, 0, 7, 7, 11, 9, 10, 8, 11, 8, 10, 7, 15, 11, 5, 6, 10, 6, 8, 11, 11, 10, 7, 12, 7, 6, 7, 10, 10, 7, 7, 8, 9, 7, 7, 8, 19, 10, 8, 9, 10, 9, 7, 10, 10, 7, 12, 8, 7, 6, 7, 7, 9, 9, 6, 9, 7, 8, 12, 6, 11, 7, 6, 10, 10, 17, 29, 10, 10, 11, 10, 8, 12, 9, 9, 9, 10, 7, 10, 8, 7, 8, 8, 13, 11, 10, 9, 6, 10, 9, 10, 7, 8, 10, 9, 7, 8, 8, 9, 10, 6, 9, 10, 11, 9, 11, 9, 8, 6, 11, 11, 7, 7, 8, 15, 6, 10, 5, 8, 8, 9, 5, 13, 8, 6, 7, 5, 7, 9, 8, 9, 5, 10, 9, 8, 7, 7, 12, 9, 12, 6, 11, 9, 11, 6, 7, 7, 7, 7, 7, 10, 6, 8, 8, 12, 10, 9, 0, 14]\n"
     ]
    }
   ],
   "source": [
    "counted = []\n",
    "for tweet in cldf['tweet']:\n",
    "    count = 0\n",
    "    for i in tweet:\n",
    "        if i == \"⬜\":\n",
    "            count+=1\n",
    "    counted.append(count)\n",
    "#print(counted)\n",
    "cldf['incorrect'] = counted\n",
    "\n",
    "counted = []\n",
    "for tweet in cldf['tweet']:\n",
    "    count = 0\n",
    "    for i in tweet:\n",
    "        if i == \"🟩\":\n",
    "            count+=1\n",
    "    counted.append(count)\n",
    "print(counted)\n",
    "cldf['correct'] = counted"
   ]
  },
  {
   "cell_type": "code",
   "execution_count": 79,
   "id": "charming-palestine",
   "metadata": {
    "scrolled": true
   },
   "outputs": [],
   "source": [
    "\n",
    "\n",
    "#cldf['date']\n",
    "try:\n",
    "    cldf = cldf.reset_index()\n",
    "    cldf.index = pd.to_datetime(cldf['date'],format='%Y-%m-%d %H:%M:%S')\n",
    "except:\n",
    "    print(\"Dont worry, you already created the date\")\n",
    "#cldf.index = \n",
    "#cldf.groupby(by=[cldf.index.month, cldf.index.year])\n",
    "#cldf = cldf.reset_index()"
   ]
  },
  {
   "cell_type": "code",
   "execution_count": 80,
   "id": "mature-insight",
   "metadata": {},
   "outputs": [
    {
     "data": {
      "text/html": [
       "<div>\n",
       "<style scoped>\n",
       "    .dataframe tbody tr th:only-of-type {\n",
       "        vertical-align: middle;\n",
       "    }\n",
       "\n",
       "    .dataframe tbody tr th {\n",
       "        vertical-align: top;\n",
       "    }\n",
       "\n",
       "    .dataframe thead th {\n",
       "        text-align: right;\n",
       "    }\n",
       "</style>\n",
       "<table border=\"1\" class=\"dataframe\">\n",
       "  <thead>\n",
       "    <tr style=\"text-align: right;\">\n",
       "      <th></th>\n",
       "      <th>index</th>\n",
       "      <th>created_at</th>\n",
       "      <th>user_id</th>\n",
       "      <th>day</th>\n",
       "      <th>video</th>\n",
       "      <th>retweet</th>\n",
       "      <th>nlikes</th>\n",
       "      <th>nreplies</th>\n",
       "      <th>nretweets</th>\n",
       "      <th>incorrect</th>\n",
       "      <th>correct</th>\n",
       "    </tr>\n",
       "    <tr>\n",
       "      <th>day_only</th>\n",
       "      <th></th>\n",
       "      <th></th>\n",
       "      <th></th>\n",
       "      <th></th>\n",
       "      <th></th>\n",
       "      <th></th>\n",
       "      <th></th>\n",
       "      <th></th>\n",
       "      <th></th>\n",
       "      <th></th>\n",
       "      <th></th>\n",
       "    </tr>\n",
       "  </thead>\n",
       "  <tbody>\n",
       "    <tr>\n",
       "      <th>2022-05-16</th>\n",
       "      <td>499500.0</td>\n",
       "      <td>1.652747e+15</td>\n",
       "      <td>2.883170e+20</td>\n",
       "      <td>1000.0</td>\n",
       "      <td>3.0</td>\n",
       "      <td>0</td>\n",
       "      <td>158.0</td>\n",
       "      <td>26.0</td>\n",
       "      <td>1.0</td>\n",
       "      <td>9293.0</td>\n",
       "      <td>8700.0</td>\n",
       "    </tr>\n",
       "  </tbody>\n",
       "</table>\n",
       "</div>"
      ],
      "text/plain": [
       "               index    created_at       user_id     day  video  retweet  \\\n",
       "day_only                                                                   \n",
       "2022-05-16  499500.0  1.652747e+15  2.883170e+20  1000.0    3.0        0   \n",
       "\n",
       "            nlikes  nreplies  nretweets  incorrect  correct  \n",
       "day_only                                                     \n",
       "2022-05-16   158.0      26.0        1.0     9293.0   8700.0  "
      ]
     },
     "execution_count": 80,
     "metadata": {},
     "output_type": "execute_result"
    }
   ],
   "source": [
    "sort = cldf.groupby(cldf.day_only, sort = False).sum()\n",
    "sort"
   ]
  },
  {
   "cell_type": "code",
   "execution_count": 81,
   "id": "signal-protocol",
   "metadata": {},
   "outputs": [
    {
     "data": {
      "text/plain": [
       "<matplotlib.axes._subplots.AxesSubplot at 0x1b07f661a88>"
      ]
     },
     "execution_count": 81,
     "metadata": {},
     "output_type": "execute_result"
    },
    {
     "data": {
      "image/png": "[encoded data removed]",
      "text/plain": [
       "<Figure size 432x288 with 1 Axes>"
      ]
     },
     "metadata": {
      "needs_background": "light"
     },
     "output_type": "display_data"
    }
   ],
   "source": [
    "cldf['nlikes'].plot()"
   ]
  },
  {
   "cell_type": "code",
   "execution_count": 82,
   "id": "assured-mentor",
   "metadata": {},
   "outputs": [
    {
     "data": {
      "text/plain": [
       "<matplotlib.axes._subplots.AxesSubplot at 0x1b006421988>"
      ]
     },
     "execution_count": 82,
     "metadata": {},
     "output_type": "execute_result"
    },
    {
     "data": {
      "image/png": "[encoded data removed]",
      "text/plain": [
       "<Figure size 432x288 with 1 Axes>"
      ]
     },
     "metadata": {
      "needs_background": "light"
     },
     "output_type": "display_data"
    }
   ],
   "source": [
    "#cldf.plot(index=pd.date_range(\"1/1/2021\", periods=1000)\n",
    "\n",
    "#this is only the past 7 full days. twint isnt showing me data past this as well and it takes hours to run I am dead in the water\n",
    "sort['index'].plot(kind='bar')"
   ]
  },
  {
   "cell_type": "code",
   "execution_count": 83,
   "id": "italic-shoulder",
   "metadata": {},
   "outputs": [],
   "source": [
    "cldf.to_csv('worldle500k.csv')"
   ]
  },
  {
   "cell_type": "code",
   "execution_count": 84,
   "id": "homeless-transsexual",
   "metadata": {},
   "outputs": [
    {
     "data": {
      "text/plain": [
       "index              1000\n",
       "id                 1000\n",
       "conversation_id    1000\n",
       "created_at         1000\n",
       "date               1000\n",
       "timezone           1000\n",
       "place              1000\n",
       "tweet              1000\n",
       "language           1000\n",
       "hashtags           1000\n",
       "cashtags           1000\n",
       "user_id            1000\n",
       "user_id_str        1000\n",
       "username           1000\n",
       "name               1000\n",
       "day                1000\n",
       "hour               1000\n",
       "link               1000\n",
       "urls               1000\n",
       "photos             1000\n",
       "video              1000\n",
       "thumbnail          1000\n",
       "retweet            1000\n",
       "nlikes             1000\n",
       "nreplies           1000\n",
       "nretweets          1000\n",
       "quote_url          1000\n",
       "search             1000\n",
       "near               1000\n",
       "geo                1000\n",
       "source             1000\n",
       "user_rt_id         1000\n",
       "user_rt            1000\n",
       "retweet_id         1000\n",
       "reply_to           1000\n",
       "retweet_date       1000\n",
       "translate          1000\n",
       "trans_src          1000\n",
       "trans_dest         1000\n",
       "day_only           1000\n",
       "incorrect          1000\n",
       "correct            1000\n",
       "dtype: int64"
      ]
     },
     "execution_count": 84,
     "metadata": {},
     "output_type": "execute_result"
    }
   ],
   "source": [
    "cldf.count()"
   ]
  },
  {
   "cell_type": "code",
   "execution_count": 85,
   "id": "least-japanese",
   "metadata": {},
   "outputs": [
    {
     "data": {
      "text/plain": [
       "<matplotlib.axes._subplots.AxesSubplot at 0x1b006486b88>"
      ]
     },
     "execution_count": 85,
     "metadata": {},
     "output_type": "execute_result"
    },
    {
     "data": {
      "image/png": "[encoded data removed]",
      "text/plain": [
       "<Figure size 432x288 with 1 Axes>"
      ]
     },
     "metadata": {
      "needs_background": "light"
     },
     "output_type": "display_data"
    }
   ],
   "source": [
    "#cldf['incorrect'].plot(kind='bar')"
   ]
  },
  {
   "cell_type": "code",
   "execution_count": 86,
   "id": "important-constant",
   "metadata": {},
   "outputs": [
    {
     "data": {
      "text/plain": [
       "9.293"
      ]
     },
     "execution_count": 86,
     "metadata": {},
     "output_type": "execute_result"
    }
   ],
   "source": [
    "cldf['incorrect'].mean()"
   ]
  },
  {
   "cell_type": "code",
   "execution_count": 97,
   "id": "optical-character",
   "metadata": {},
   "outputs": [
    {
     "data": {
      "text/plain": [
       "<matplotlib.axes._subplots.AxesSubplot at 0x1b00a5d8688>"
      ]
     },
     "execution_count": 97,
     "metadata": {},
     "output_type": "execute_result"
    },
    {
     "data": {
      "image/png": "[encoded data removed]",
      "text/plain": [
       "<Figure size 504x504 with 1 Axes>"
      ]
     },
     "metadata": {
      "needs_background": "light"
     },
     "output_type": "display_data"
    }
   ],
   "source": [
    "cldf.plot(x='correct',y='incorrect',kind='scatter',figsize=(7,7))"
   ]
  },
  {
   "cell_type": "code",
   "execution_count": 96,
   "id": "acoustic-relevance",
   "metadata": {},
   "outputs": [],
   "source": [
    "cldf=cldf[cldf['correct']<35].sample(100)"
   ]
  },
  {
   "cell_type": "code",
   "execution_count": null,
   "id": "rapid-category",
   "metadata": {},
   "outputs": [],
   "source": []
  }
 ],
 "metadata": {
  "kernelspec": {
   "display_name": "Python 3",
   "language": "python",
   "name": "python3"
  },
  "language_info": {
   "codemirror_mode": {
    "name": "ipython",
    "version": 3
   },
   "file_extension": ".py",
   "mimetype": "text/x-python",
   "name": "python",
   "nbconvert_exporter": "python",
   "pygments_lexer": "ipython3",
   "version": "3.7.9"
  }
 },
 "nbformat": 4,
 "nbformat_minor": 5
}
